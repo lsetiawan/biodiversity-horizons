{
 "cells": [
  {
   "cell_type": "code",
   "execution_count": 1,
   "id": "de138fc7-3e1d-4d10-952f-4cfa9e498cf4",
   "metadata": {},
   "outputs": [],
   "source": [
    "import xarray as xr\n",
    "import fsspec"
   ]
  },
  {
   "cell_type": "code",
   "execution_count": 2,
   "id": "2942a12d-de6a-4d35-a89a-3f91f1f230e4",
   "metadata": {},
   "outputs": [],
   "source": [
    "data_url = \"s3://cmip6-pds/CMIP6/CMIP/CNRM-CERFACS/CNRM-CM6-1-HR/historical/r1i1p1f2/day/tas/gr/v20191021/\"\n",
    "mapper = fsspec.get_mapper(data_url, anon=True)"
   ]
  },
  {
   "cell_type": "code",
   "execution_count": 3,
   "id": "a3b47fdb-5b4d-491c-8849-6e72860dd096",
   "metadata": {},
   "outputs": [],
   "source": [
    "ds = xr.open_dataset(mapper, engine=\"zarr\")"
   ]
  },
  {
   "cell_type": "code",
   "execution_count": null,
   "id": "e0533e64-6bf1-440c-8b54-d265673c71a1",
   "metadata": {},
   "outputs": [],
   "source": [
    "ds"
   ]
  },
  {
   "cell_type": "code",
   "execution_count": null,
   "id": "a4ed07e2-ad4c-49f8-855b-c52f8c55f2c8",
   "metadata": {},
   "outputs": [],
   "source": []
  }
 ],
 "metadata": {
  "kernelspec": {
   "display_name": "default",
   "language": "python",
   "name": "python3"
  },
  "language_info": {
   "codemirror_mode": {
    "name": "ipython",
    "version": 3
   },
   "file_extension": ".py",
   "mimetype": "text/x-python",
   "name": "python",
   "nbconvert_exporter": "python",
   "pygments_lexer": "ipython3",
   "version": "3.13.0"
  }
 },
 "nbformat": 4,
 "nbformat_minor": 5
}
