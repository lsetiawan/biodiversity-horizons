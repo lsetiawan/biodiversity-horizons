{
 "cells": [
  {
   "cell_type": "code",
   "execution_count": 1,
   "metadata": {},
   "outputs": [
    {
     "name": "stdout",
     "output_type": "stream",
     "text": [
      "\n",
      "\u001b[1m[\u001b[0m\u001b[34;49mnotice\u001b[0m\u001b[1;39;49m]\u001b[0m\u001b[39;49m A new release of pip is available: \u001b[0m\u001b[31;49m24.2\u001b[0m\u001b[39;49m -> \u001b[0m\u001b[32;49m24.3.1\u001b[0m\n",
      "\u001b[1m[\u001b[0m\u001b[34;49mnotice\u001b[0m\u001b[1;39;49m]\u001b[0m\u001b[39;49m To update, run: \u001b[0m\u001b[32;49mpip install --upgrade pip\u001b[0m\n",
      "Note: you may need to restart the kernel to use updated packages.\n"
     ]
    }
   ],
   "source": [
    "%pip install -q esgf-pyclient"
   ]
  },
  {
   "cell_type": "code",
   "execution_count": 2,
   "metadata": {},
   "outputs": [
    {
     "name": "stderr",
     "output_type": "stream",
     "text": [
      "\n",
      "-------------------------------------------------------------------------------\n",
      "Warning - defaulting to search with facets=*\n",
      "\n",
      "This behavior is kept for backward-compatibility, but ESGF indexes might not\n",
      "successfully perform a distributed search when this option is used, so some\n",
      "results may be missing.  For full results, it is recommended to pass a list of\n",
      "facets of interest when instantiating a context object.  For example,\n",
      "\n",
      "      ctx = conn.new_context(facets='project,experiment_id')\n",
      "\n",
      "Only the facets that you specify will be present in the facets_counts dictionary.\n",
      "\n",
      "This warning is displayed when a distributed search is performed while using the\n",
      "facets=* default, a maximum of once per context object.  To suppress this warning,\n",
      "set the environment variable ESGF_PYCLIENT_NO_FACETS_STAR_WARNING to any value\n",
      "or explicitly use  conn.new_context(facets='*')\n",
      "\n",
      "-------------------------------------------------------------------------------\n"
     ]
    },
    {
     "data": {
      "text/plain": [
       "10569"
      ]
     },
     "execution_count": 2,
     "metadata": {},
     "output_type": "execute_result"
    }
   ],
   "source": [
    "from pyesgf.search import SearchConnection\n",
    "conn = SearchConnection('https://esgf.ceda.ac.uk/esg-search',\n",
    "                         distrib=True)\n",
    "ctx = conn.new_context(project='CMIP5', query='humidity')\n",
    "ctx.hit_count"
   ]
  },
  {
   "cell_type": "code",
   "execution_count": 2,
   "metadata": {},
   "outputs": [
    {
     "data": {
      "text/plain": [
       "False"
      ]
     },
     "execution_count": 2,
     "metadata": {},
     "output_type": "execute_result"
    }
   ],
   "source": [
    "from pyesgf.logon import LogonManager\n",
    "lm = LogonManager()\n",
    "lm.logoff()\n",
    "lm.is_logged_on()"
   ]
  },
  {
   "cell_type": "code",
   "execution_count": 4,
   "metadata": {},
   "outputs": [
    {
     "name": "stdout",
     "output_type": "stream",
     "text": [
      "Enter myproxy username: "
     ]
    },
    {
     "ename": "KeyboardInterrupt",
     "evalue": "",
     "output_type": "error",
     "traceback": [
      "\u001b[0;31m---------------------------------------------------------------------------\u001b[0m",
      "\u001b[0;31mKeyboardInterrupt\u001b[0m                         Traceback (most recent call last)",
      "\u001b[1;32m/workspaces/biodiversity-horizons/test.ipynb Cell 3\u001b[0m line \u001b[0;36m2\n\u001b[1;32m      <a href='vscode-notebook-cell://codespaces%2Bsolitary-skeleton-ggq9w4gw5rqhp6/workspaces/biodiversity-horizons/test.ipynb#W2sdnNjb2RlLXJlbW90ZQ%3D%3D?line=0'>1</a>\u001b[0m myproxy_host \u001b[39m=\u001b[39m \u001b[39m'\u001b[39m\u001b[39mesgf-data.dkrz.de\u001b[39m\u001b[39m'\u001b[39m\n\u001b[0;32m----> <a href='vscode-notebook-cell://codespaces%2Bsolitary-skeleton-ggq9w4gw5rqhp6/workspaces/biodiversity-horizons/test.ipynb#W2sdnNjb2RlLXJlbW90ZQ%3D%3D?line=1'>2</a>\u001b[0m lm\u001b[39m.\u001b[39;49mlogon(username\u001b[39m=\u001b[39;49m\u001b[39mNone\u001b[39;49;00m, password\u001b[39m=\u001b[39;49m\u001b[39mNone\u001b[39;49;00m, hostname\u001b[39m=\u001b[39;49mmyproxy_host)\n\u001b[1;32m      <a href='vscode-notebook-cell://codespaces%2Bsolitary-skeleton-ggq9w4gw5rqhp6/workspaces/biodiversity-horizons/test.ipynb#W2sdnNjb2RlLXJlbW90ZQ%3D%3D?line=2'>3</a>\u001b[0m lm\u001b[39m.\u001b[39mis_logged_on()\n",
      "File \u001b[0;32m~/.python/current/lib/python3.12/site-packages/pyesgf/logon.py:184\u001b[0m, in \u001b[0;36mLogonManager.logon\u001b[0;34m(self, username, password, hostname, bootstrap, update_trustroots, interactive)\u001b[0m\n\u001b[1;32m    180\u001b[0m     \u001b[39mraise\u001b[39;00m OpenidResolutionError(\u001b[39m'\u001b[39m\u001b[39mFull logon details not available\u001b[39m\u001b[39m'\u001b[39m)\n\u001b[1;32m    182\u001b[0m c \u001b[39m=\u001b[39m MyProxyClient(hostname\u001b[39m=\u001b[39mhostname, caCertDir\u001b[39m=\u001b[39m\u001b[39mself\u001b[39m\u001b[39m.\u001b[39mesgf_certs_dir)\n\u001b[0;32m--> 184\u001b[0m creds \u001b[39m=\u001b[39m c\u001b[39m.\u001b[39;49mlogon(username, password,\n\u001b[1;32m    185\u001b[0m                 bootstrap\u001b[39m=\u001b[39;49mbootstrap,\n\u001b[1;32m    186\u001b[0m                 updateTrustRoots\u001b[39m=\u001b[39;49mupdate_trustroots)\n\u001b[1;32m    187\u001b[0m \u001b[39mwith\u001b[39;00m \u001b[39mopen\u001b[39m(\u001b[39mself\u001b[39m\u001b[39m.\u001b[39mesgf_credentials, \u001b[39m'\u001b[39m\u001b[39mwb\u001b[39m\u001b[39m'\u001b[39m) \u001b[39mas\u001b[39;00m fh:\n\u001b[1;32m    188\u001b[0m     \u001b[39mfor\u001b[39;00m cred \u001b[39min\u001b[39;00m creds:\n",
      "File \u001b[0;32m~/.python/current/lib/python3.12/site-packages/myproxy/client/__init__.py:1453\u001b[0m, in \u001b[0;36mMyProxyClient.logon\u001b[0;34m(self, username, passphrase, credname, lifetime, keyPair, certReq, nBitsForKey, bootstrap, updateTrustRoots, authnGetTrustRootsCall, sslCertFile, sslKeyFile, sslKeyFilePassphrase)\u001b[0m\n\u001b[1;32m   1450\u001b[0m     \u001b[39melse\u001b[39;00m:\n\u001b[1;32m   1451\u001b[0m         getTrustRootsKw \u001b[39m=\u001b[39m {}\n\u001b[0;32m-> 1453\u001b[0m     \u001b[39mself\u001b[39;49m\u001b[39m.\u001b[39;49mgetTrustRoots(writeToCACertDir\u001b[39m=\u001b[39;49m\u001b[39mTrue\u001b[39;49;00m,\n\u001b[1;32m   1454\u001b[0m                        bootstrap\u001b[39m=\u001b[39;49mbootstrap,\n\u001b[1;32m   1455\u001b[0m                        \u001b[39m*\u001b[39;49m\u001b[39m*\u001b[39;49mgetTrustRootsKw)\n\u001b[1;32m   1457\u001b[0m lifetime \u001b[39m=\u001b[39m lifetime \u001b[39mor\u001b[39;00m \u001b[39mself\u001b[39m\u001b[39m.\u001b[39mproxyCertLifetime\n\u001b[1;32m   1459\u001b[0m \u001b[39m# Basic sanity check on username to avoid overhead on server\u001b[39;00m\n",
      "File \u001b[0;32m~/.python/current/lib/python3.12/site-packages/myproxy/client/__init__.py:1609\u001b[0m, in \u001b[0;36mMyProxyClient.getTrustRoots\u001b[0;34m(self, username, passphrase, writeToCACertDir, bootstrap)\u001b[0m\n\u001b[1;32m   1607\u001b[0m \u001b[39m# Set-up SSL connection\u001b[39;00m\n\u001b[1;32m   1608\u001b[0m conn \u001b[39m=\u001b[39m \u001b[39mself\u001b[39m\u001b[39m.\u001b[39m_initConnection(verifyPeerWithTrustRoots\u001b[39m=\u001b[39m(\u001b[39mnot\u001b[39;00m bootstrap))\n\u001b[0;32m-> 1609\u001b[0m conn\u001b[39m.\u001b[39;49mconnect((\u001b[39mself\u001b[39;49m\u001b[39m.\u001b[39;49mhostname, \u001b[39mself\u001b[39;49m\u001b[39m.\u001b[39;49mport))\n\u001b[1;32m   1611\u001b[0m \u001b[39m# send globus compatibility stuff\u001b[39;00m\n\u001b[1;32m   1612\u001b[0m conn\u001b[39m.\u001b[39mwrite(\u001b[39mself\u001b[39m\u001b[39m.\u001b[39m\u001b[39m__class__\u001b[39m\u001b[39m.\u001b[39mGLOBUS_INIT_MSG)\n",
      "File \u001b[0;32m~/.python/current/lib/python3.12/site-packages/OpenSSL/SSL.py:2313\u001b[0m, in \u001b[0;36mConnection.connect\u001b[0;34m(self, addr)\u001b[0m\n\u001b[1;32m   2304\u001b[0m \u001b[39m\u001b[39m\u001b[39m\"\"\"\u001b[39;00m\n\u001b[1;32m   2305\u001b[0m \u001b[39mCall the :meth:`connect` method of the underlying socket and set up SSL\u001b[39;00m\n\u001b[1;32m   2306\u001b[0m \u001b[39mon the socket, using the :class:`Context` object supplied to this\u001b[39;00m\n\u001b[0;32m   (...)\u001b[0m\n\u001b[1;32m   2310\u001b[0m \u001b[39m:return: What the socket's connect method returns\u001b[39;00m\n\u001b[1;32m   2311\u001b[0m \u001b[39m\"\"\"\u001b[39;00m\n\u001b[1;32m   2312\u001b[0m _lib\u001b[39m.\u001b[39mSSL_set_connect_state(\u001b[39mself\u001b[39m\u001b[39m.\u001b[39m_ssl)\n\u001b[0;32m-> 2313\u001b[0m \u001b[39mreturn\u001b[39;00m \u001b[39mself\u001b[39;49m\u001b[39m.\u001b[39;49m_socket\u001b[39m.\u001b[39;49mconnect(addr)\n",
      "\u001b[0;31mKeyboardInterrupt\u001b[0m: "
     ]
    }
   ],
   "source": [
    "myproxy_host = 'esgf-data.dkrz.de'\n",
    "lm.logon(username=None, password=None, hostname=myproxy_host)\n",
    "lm.is_logged_on()"
   ]
  }
 ],
 "metadata": {
  "language_info": {
   "name": "python"
  }
 },
 "nbformat": 4,
 "nbformat_minor": 2
}
